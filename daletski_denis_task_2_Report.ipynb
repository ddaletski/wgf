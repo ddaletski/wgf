{
 "cells": [
  {
   "cell_type": "code",
   "execution_count": 1,
   "metadata": {},
   "outputs": [
    {
     "name": "stdout",
     "output_type": "stream",
     "text": [
      "Populating the interactive namespace from numpy and matplotlib\n"
     ]
    }
   ],
   "source": [
    "%pylab inline --no-import-all\n",
    "import seaborn as sns\n",
    "import cv2\n",
    "import pandas as pd"
   ]
  },
  {
   "cell_type": "markdown",
   "metadata": {},
   "source": [
    "## Reading the data"
   ]
  },
  {
   "cell_type": "code",
   "execution_count": 2,
   "metadata": {
    "collapsed": true
   },
   "outputs": [],
   "source": [
    "import csv\n",
    "import re\n",
    "import os\n",
    "\n",
    "def read_data(data_file, images_dir, is_train=True):\n",
    "    data = []\n",
    "    header = []\n",
    "    with open(data_file) as f:\n",
    "        for i, line in enumerate(f):\n",
    "            if i == 0:\n",
    "                header = np.array(re.split(r\"\\s*,\\s*\", line.strip()))\n",
    "                continue\n",
    "            line_data = re.split(r\"\\s*,\\s*\", line.strip())\n",
    "            data.append(line_data)\n",
    "            \n",
    "    X = np.array(data)\n",
    "    header = np.array(header)\n",
    "    \n",
    "    if is_train: # extract targets\n",
    "        y = X[:, 1].astype(int)\n",
    "        X = np.hstack((X[:, 0].reshape(-1, 1), X[:, 2:]))\n",
    "        header = np.hstack((header[0], header[2:]))\n",
    "    else:\n",
    "        y = None\n",
    "\n",
    "    X = pd.DataFrame(X, columns=header).set_index(\"Id\")\n",
    "    images = np.array(X['Poster'].apply(lambda img_path: plt.imread(os.path.join(images_dir, img_path))))\n",
    "    \n",
    "    return X.drop('Poster', axis=1), images, y"
   ]
  },
  {
   "cell_type": "code",
   "execution_count": 3,
   "metadata": {
    "collapsed": true
   },
   "outputs": [],
   "source": [
    "trainData, trainImages, trainY = read_data(\"task_2_data/train.csv\", \"task_2_data/posters/\")\n",
    "testData, testImages, testY = read_data(\"task_2_data/test.csv\", \"task_2_data/posters/\", False)"
   ]
  },
  {
   "cell_type": "markdown",
   "metadata": {},
   "source": [
    "## Features extraction\n",
    "\n",
    "I implement DataTransformer class which does the following:\n",
    "* Extracts color histograms of posters\n",
    "* Applies one-hot encoding on categorical parameters (language, rating, country)\n",
    "\n",
    "We have too litle training dataset for convolutional networks or some other sophisticated methods, so I decided to use only color histograms of images as features extracted from posters, and use them with other features of movies like rating etc. in classification"
   ]
  },
  {
   "cell_type": "code",
   "execution_count": 4,
   "metadata": {
    "collapsed": true
   },
   "outputs": [],
   "source": [
    "from sklearn.preprocessing import LabelEncoder, OneHotEncoder\n",
    "import copy\n",
    "\n",
    "class DataTransformer:\n",
    "    def __init__(self):\n",
    "        self._lang_encoder = (LabelEncoder(), OneHotEncoder())\n",
    "        self._country_encoder = (LabelEncoder(), OneHotEncoder())\n",
    "        self._rating_encoder = (LabelEncoder(), OneHotEncoder())\n",
    "        self._hist_bins = 8\n",
    "        \n",
    "    def fit_encoder(self, encoder, strings):\n",
    "        classes = encoder[0].fit_transform(strings).reshape(-1, 1)\n",
    "        encoder[1].fit(classes)\n",
    "        \n",
    "    def encode_strings(self, encoder, strings):\n",
    "        classes = encoder[0].transform(strings).reshape(-1, 1)\n",
    "        return encoder[1].transform(classes).toarray()\n",
    "    \n",
    "    def color_histograms(self, images):\n",
    "        \"\"\" calculate color histograms of posters \"\"\"\n",
    "        # initialize with zeroes\n",
    "        hists = pd.DataFrame(\n",
    "            np.zeros((images.shape[0], 3 * self._hist_bins)),\n",
    "            columns=[\"bin%d\" % i for i in range(3 * self._hist_bins)]\n",
    "        )\n",
    "        \n",
    "        # calculate histograms and fill data frame\n",
    "        for i in range(images.shape[0]):\n",
    "            hists.iloc[i, :] = np.array([\n",
    "                cv2.calcHist([channel], [0], None, [self._hist_bins], [0, 256])\n",
    "                for channel in cv2.split(images[i])\n",
    "            ]).reshape((1, -1))\n",
    "        \n",
    "        return hists\n",
    "            \n",
    "        \n",
    "    def fit(self, X, y, **fit_params):\n",
    "        x, images = X\n",
    "        \n",
    "        hist_bins = fit_params.get(\"hist_bins\")\n",
    "        all_langs = fit_params.get(\"all_langs\") # list of all langs to prepare language encoder\n",
    "        all_ratings = fit_params.get(\"all_ratings\") \n",
    "        all_countries = fit_params.get(\"all_countries\")\n",
    "        \n",
    "        if hist_bins is not None:\n",
    "            self._hist_bins = hist_bins\n",
    "            \n",
    "        if all_langs is not None:\n",
    "            self.fit_encoder(self._lang_encoder, all_langs)\n",
    "        else:\n",
    "            self.fit_encoder(self._lang_encoder, x['Language'].unique()) \n",
    "        \n",
    "        if all_countries is not None:\n",
    "            self.fit_encoder(self._country_encoder, all_countries)\n",
    "        else:\n",
    "            self.fit_encoder(self._country_encoder, x['Country'].unique())\n",
    "            \n",
    "        if all_countries is not None:\n",
    "            self.fit_encoder(self._rating_encoder, all_ratings)\n",
    "        else:\n",
    "            self.fit_encoder(self._rating_encoder, x['Rating'].unique())\n",
    "            \n",
    "        return self\n",
    "     \n",
    "    def transform(self, X, **transform_params):  \n",
    "        x, images = X\n",
    "        data = x.copy()\n",
    "        \n",
    "        data.loc[data['Language'] == 'None', 'Language'] = ''        \n",
    "        data.loc[data['Rating'] == 'Not Rated', 'Rating'] = ''\n",
    "        data.loc[data['Rating'] == 'Unrated', 'Rating'] = ''\n",
    "        \n",
    "        # one_hot_encoded langs, countries and ratings\n",
    "        langs = pd.DataFrame(self.encode_strings(self._lang_encoder, data['Language']), index=data.index)\n",
    "        countries = pd.DataFrame(self.encode_strings(self._country_encoder, data['Country']), index=data.index)\n",
    "        ratings = pd.DataFrame(self.encode_strings(self._rating_encoder, data['Rating']), index=data.index)\n",
    "\n",
    "        ######### color histograms of posters ############\n",
    "        hists = self.color_histograms(images).set_index(data.index)\n",
    "        ########## result frame ###########\n",
    "                                    \n",
    "        new_data = pd.concat((\n",
    "            data[['Duration']],\n",
    "            data.loc[:, 'Action':'Western'],\n",
    "            langs,\n",
    "            countries,\n",
    "            hists,\n",
    "            ratings\n",
    "        ), axis=1, join_axes=[data.index])\n",
    "                \n",
    "        return new_data"
   ]
  },
  {
   "cell_type": "markdown",
   "metadata": {},
   "source": [
    "## Classification\n",
    "Now I will use my feature extractor in pipeline with a classifier. Random forests and Adaboost will be used for classification"
   ]
  },
  {
   "cell_type": "code",
   "execution_count": 5,
   "metadata": {
    "collapsed": true,
    "scrolled": false
   },
   "outputs": [],
   "source": [
    "from sklearn.ensemble import RandomForestClassifier, AdaBoostClassifier\n",
    "from sklearn.pipeline import Pipeline\n",
    "\n",
    "pipeRF = Pipeline([(\"tr\", DataTransformer()), (\"classifier\", RandomForestClassifier() )])\n",
    "pipeADA = Pipeline([(\"tr\", DataTransformer()), (\"classifier\", AdaBoostClassifier() )])\n",
    "\n",
    "all_langs = pd.concat((trainData['Language'], testData['Language'])).unique()\n",
    "all_countries = pd.concat((trainData['Country'], testData['Country'])).unique()\n",
    "all_ratings = pd.concat((trainData['Rating'], testData['Rating'])).unique()"
   ]
  },
  {
   "cell_type": "markdown",
   "metadata": {},
   "source": [
    "### Cross validation and model selection"
   ]
  },
  {
   "cell_type": "code",
   "execution_count": 6,
   "metadata": {
    "collapsed": true
   },
   "outputs": [],
   "source": [
    "import tqdm\n",
    "\n",
    "def CV(model, n_folds=10):\n",
    "    dataFolds = np.split(trainData[:3620], n_folds)\n",
    "    imgFolds = np.split(trainImages[:3620], n_folds)\n",
    "    yFolds = np.split(trainY[:3620], n_folds)\n",
    "\n",
    "    scores = []\n",
    "\n",
    "    def split_on_fold(data, fold, is_pandas = False):\n",
    "        if is_pandas:\n",
    "            tr_data = pd.concat((*data[:fold], *data[(fold+1):]))\n",
    "        else:\n",
    "            tr_data = np.concatenate((*data[:fold], *data[(fold+1):]))\n",
    "        val_data = data[fold]\n",
    "        return tr_data, val_data\n",
    "\n",
    "    for fold in tqdm.tqdm(range(n_folds)):\n",
    "        trD, valD = split_on_fold(dataFolds, fold, True)\n",
    "        trI, valI = split_on_fold(imgFolds, fold)\n",
    "        trY, valY = split_on_fold(yFolds, fold)\n",
    "\n",
    "        model.fit(\n",
    "            (trD, trI),\n",
    "            trY,\n",
    "            tr__all_langs=all_langs, # fit params for translator like list of all languages, ratings, countries\n",
    "            tr__all_countries=all_countries,\n",
    "            tr__all_ratings=all_ratings,\n",
    "            tr__hist_bins=6\n",
    "        )\n",
    "\n",
    "        scores.append(model.score((valD, valI), valY))\n",
    "\n",
    "    plt.bar(range(len(scores)), scores)\n",
    "    print(\"average %d-fold validation accuracy: %f\" % (n_folds, np.average(scores)))"
   ]
  },
  {
   "cell_type": "code",
   "execution_count": 7,
   "metadata": {},
   "outputs": [
    {
     "name": "stderr",
     "output_type": "stream",
     "text": [
      "100%|██████████| 5/5 [00:17<00:00,  3.59s/it]\n"
     ]
    },
    {
     "name": "stdout",
     "output_type": "stream",
     "text": [
      "average 5-fold validation accuracy: 0.795856\n"
     ]
    },
    {
     "data": {
      "image/png": "[encoded data removed]",
      "text/plain": [
       "<matplotlib.figure.Figure at 0x7f4e0dc365f8>"
      ]
     },
     "metadata": {},
     "output_type": "display_data"
    }
   ],
   "source": [
    "CV(pipeADA, 5)"
   ]
  },
  {
   "cell_type": "code",
   "execution_count": 8,
   "metadata": {},
   "outputs": [
    {
     "name": "stderr",
     "output_type": "stream",
     "text": [
      "100%|██████████| 5/5 [00:15<00:00,  3.16s/it]\n"
     ]
    },
    {
     "name": "stdout",
     "output_type": "stream",
     "text": [
      "average 5-fold validation accuracy: 0.768508\n"
     ]
    },
    {
     "data": {
      "image/png": "[encoded data removed]",
      "text/plain": [
       "<matplotlib.figure.Figure at 0x7f4e09902c50>"
      ]
     },
     "metadata": {},
     "output_type": "display_data"
    }
   ],
   "source": [
    "CV(pipeRF, 5)"
   ]
  },
  {
   "cell_type": "markdown",
   "metadata": {},
   "source": [
    "As we see, AdaBoost gives a better result, so let's use it"
   ]
  },
  {
   "cell_type": "markdown",
   "metadata": {},
   "source": [
    "### Fitting on full training set"
   ]
  },
  {
   "cell_type": "code",
   "execution_count": 10,
   "metadata": {
    "collapsed": true
   },
   "outputs": [],
   "source": [
    "model = pipeADA\n",
    "\n",
    "model.fit(\n",
    "    (trainData, trainImages),\n",
    "    trainY,\n",
    "    tr__all_langs=all_langs,\n",
    "    tr__all_countries=all_countries,\n",
    "    tr__all_ratings=all_ratings,\n",
    "    tr__hist_bins=6\n",
    ")\n",
    "pass"
   ]
  },
  {
   "cell_type": "markdown",
   "metadata": {},
   "source": [
    "### Predicting the output and saving results"
   ]
  },
  {
   "cell_type": "code",
   "execution_count": null,
   "metadata": {
    "collapsed": true
   },
   "outputs": [],
   "source": [
    "predictions = pd.DataFrame(model.predict_proba((testData, testImages))[:,1], index=testData.index, columns=['Probability'])\n",
    "\n",
    "outfile = \"daletski_denis_task_2_predictions.csv\"\n",
    "predictions.to_csv(outfile)"
   ]
  },
  {
   "cell_type": "markdown",
   "metadata": {},
   "source": [
    "## Conclusion and outline"
   ]
  },
  {
   "cell_type": "markdown",
   "metadata": {},
   "source": [
    "Another model I tried to use her was a milti-input CNN. First it took posters, then after convolution layers there was another input for other movies data. All this data + output of convolution layers then passed through dense layes. So this network used spatial features of posters plus other movies data. But there are not enough training data to train CNN and get a satisfactory accuracy"
   ]
  }
 ],
 "metadata": {
  "kernelspec": {
   "display_name": "Python 3",
   "language": "python",
   "name": "python3"
  },
  "language_info": {
   "codemirror_mode": {
    "name": "ipython",
    "version": 3
   },
   "file_extension": ".py",
   "mimetype": "text/x-python",
   "name": "python",
   "nbconvert_exporter": "python",
   "pygments_lexer": "ipython3",
   "version": "3.6.2"
  }
 },
 "nbformat": 4,
 "nbformat_minor": 2
}

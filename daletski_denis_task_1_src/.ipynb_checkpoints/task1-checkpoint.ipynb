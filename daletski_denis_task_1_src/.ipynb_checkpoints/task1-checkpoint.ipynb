{
 "cells": [
  {
   "cell_type": "code",
   "execution_count": 1,
   "metadata": {},
   "outputs": [
    {
     "name": "stdout",
     "output_type": "stream",
     "text": [
      "Populating the interactive namespace from numpy and matplotlib\n"
     ]
    }
   ],
   "source": [
    "%pylab inline --no-import-all\n",
    "import copy"
   ]
  },
  {
   "cell_type": "code",
   "execution_count": 2,
   "metadata": {
    "collapsed": true
   },
   "outputs": [],
   "source": [
    "players_filename = \"task_1_data/test_A/players.txt\"\n",
    "teams_filename = \"task_1_data/test_A/teams.txt\""
   ]
  },
  {
   "cell_type": "markdown",
   "metadata": {},
   "source": [
    "## Reading data from file\n",
    "\n",
    "I intendedly calculate records count first in order not to read all the data in memory. Then players records are stored in an array of 2-byte integers. After that teams ratings are calculated one by one and storded in an array"
   ]
  },
  {
   "cell_type": "code",
   "execution_count": 3,
   "metadata": {
    "collapsed": true
   },
   "outputs": [],
   "source": [
    "players_count = sum(1 for line in open(players_filename))\n",
    "\n",
    "with open(players_filename) as f:\n",
    "    players_ratings = np.zeros((players_count,), dtype='uint16')\n",
    "    for i in range(players_count):\n",
    "        rating = f.readline().split(\" \")[1]\n",
    "        players_ratings[i] = rating\n",
    "\n",
    "        \n",
    "teams_count = sum(1 for line in open(teams_filename))\n",
    "\n",
    "with open(teams_filename) as f:\n",
    "    teams_ratings = np.zeros((teams_count,), dtype='int32')\n",
    "    for i in range(teams_count):\n",
    "        team_players_ratings = map(lambda idx: players_ratings[int(idx)], f.readline().split(\" \")[1:])\n",
    "        teams_ratings[i] = np.sum(list(team_players_ratings))"
   ]
  },
  {
   "cell_type": "markdown",
   "metadata": {},
   "source": [
    "## Implementation of a fast matching algorithm\n",
    "\n",
    "It uses teams sorted by rating in order to math pairs faster (time complexity is $O(N\\log{N})$).\n",
    "\n",
    "### Even number of teams\n",
    "It holds on one usual property that I will try to prove:<br>\n",
    "**If there is a sorted array (of even size) of numbers, the minimum imbalance will take place, if we arrange pairs in the following manner**:<br>\n",
    "(a1 a2) (a3 a4) (a5 a6), ..., where a{i} is the i'th element of this sorted array. I will call this arrangment as *basic arrangement* and total imbalance of this arrangement I will call *basic distance*\n",
    "\n",
    "Informal proof 1:\n",
    "Let's trait pair rating difference as some distance. And let's signify our total distance(imbalance) as $D$ and *basic distance* as $D_{basic}$. Our teams will form a sequence named $(a_i)$ of the length $N$ (indexing starts from 0).\n",
    "\n",
    "So \n",
    "$$\n",
    "D_{basic} = \\sum_{i=0}^{N/2}{|a_{i+1}-a_{i}|}\n",
    "$$\n",
    "If we swap two teams (k-th and m-th, m > k, suppose k and m are even numbers. For other cases proof would be similar), we will get a new sequence $(a'_i)$ and total distance:\n",
    "\n",
    "$$ \n",
    "D = \\sum_{i=0}^{N/2}{|a'_{2i+1}-a'_{2i}|}\n",
    "$$\n",
    "\n",
    "So difference of these distances:\n",
    "$$\n",
    "D - D_{basic} = \\sum_{i=0}^{N/2}{|a'_{2i+1}-a'_{2i}|} - \\sum_{i=0}^{N/2}{|a_{i+1}-a_{i}|} = \\\\\n",
    "|a'_k - a'_{k-1}| + |a'_m - a'_{m-1}| - |a_k - a_{k-1}| - |a_m - a_{m-1}| = \\\\\n",
    "|a_m - a_{k-1}| + |a_k - a_{m-1}| - |a_k - a_{k-1}| - |a_m - a_{m-1}| = \\\\\n",
    "(a_m - a_{k-1}) + (a_{m-1} - a_k) - (a_k - a_{k-1}) - (a_m - a_{m-1}) = \\\\\n",
    "a_m - a_{k-1} + a_{m-1} - a_k - a_k + a_{k-1} - a_m + a_{m-1} = 2a_{m-1} - 2a_k >= 0 \n",
    "$$ \n",
    "\n",
    "And every element that is not in its basic place will propagate more difference, because there must be another element taking place of that one, and this lead to a situation, when for $k < m$ holds $a'_k > a'_m"
   ]
  },
  {
   "cell_type": "markdown",
   "metadata": {},
   "source": [
    "### Odd number of teams\n",
    "When N is odd, the solution is to find a team, without which we get a minimum basic distance. So we should find a team to throw away so that it leads to a minimum imbalance in our matches.\n",
    "We could be straightforward and just check all N possibilities, but then we would get $O(N\\log{N})$ time complexity. My solution is to use two cumulative sums (which can be calculated in linear time) of the basic distance. \n",
    "\n",
    "First cumsum is a cumulative sum of N-1 pairs distances started from position 0, i.e. pairs $(a_0, a_1), (a_2, a_3) ... (a_{N-3}, a_{N-2})$<br>\n",
    "The last team $a_{N-1}$ is without a pair <br>\n",
    "\n",
    "Second cumsum is a cumulative sum of N-1 pairs started from position 1, i.e. pairs $(a_1, a_2), (a_3, a_4), ... (a_{N-2}, a_{N-1})$<br>\n",
    "The first team $a_0$ is without a pair <br>\n",
    "\n",
    "Now we can calculate basic distance of (all except i-th) teams for $O(1)$ using these sums. We check all N teams as candidates to be thrown away, so we get $O(N)$, and it's cheeper than a sorting on step 1. So total time complexity is $O(N\\log{N})$ "
   ]
  },
  {
   "cell_type": "code",
   "execution_count": 4,
   "metadata": {
    "collapsed": true
   },
   "outputs": [],
   "source": [
    "def cumsum_at(idx, cumsum):\n",
    "    if idx < 0:\n",
    "        return 0\n",
    "    else:\n",
    "        return cumsum[idx]\n",
    "    \n",
    "\n",
    "def cost_without(idx, cumsum1, cumsum2):\n",
    "    n = len(cumsum1)\n",
    "    if idx % 2 == 0:\n",
    "        left_cost = cumsum_at(idx//2-1, cumsum1)\n",
    "        right_cost = cumsum_at(n-1, cumsum2) - cumsum_at(idx//2-1, cumsum2)\n",
    "    else:\n",
    "        left_cost = cumsum_at(idx//2, cumsum1)\n",
    "        right_cost = cumsum_at(n-1, cumsum2) - cumsum_at(idx//2-1, cumsum2)\n",
    "        \n",
    "    return left_cost + right_cost\n",
    "\n",
    "    \n",
    "def odd_matching(teams):\n",
    "    \n",
    "    # pairs started from pos. 0 like (teams[0], teams[1]), (teams[2], teams[3])\n",
    "    pairs_1 = [(teams[i][1], teams[i+1][1]) for i in range(0, len(teams)-2, 2)]\n",
    "    # pairs started from pos. 1 like (teams[1], teams[2]), (teams[3], teams[4])\n",
    "    pairs_2 = [(teams[i][1], teams[i+1][1]) for i in range(1, len(teams)-1, 2)]\n",
    "    \n",
    "    # cumulative sum of rating differences of pairs_1\n",
    "    cumsum_1 = np.cumsum(list(map(lambda pair: pair[1]-pair[0], pairs_1)))\n",
    "    # cumulative sum of rating differences of pairs_2\n",
    "    cumsum_2 = np.cumsum(list(map(lambda pair: pair[1]-pair[0], pairs_2)))\n",
    "    \n",
    "    # index of optimal throw-away-team and imbalance cost without this team\n",
    "    min_cost = (0, cost_without(0, cumsum_1, cumsum_2))\n",
    "    for i in range(1, len(teams)):\n",
    "        cost_i = cost_without(i, cumsum_1, cumsum_2) # calculate imbalance without i-th team \n",
    "        if cost_i < min_cost[1]:\n",
    "            min_cost = (i, cost_i)\n",
    "            \n",
    "    teams_left = teams[:min_cost[0]] + teams[min_cost[0]+1:] # throw away the team\n",
    "    \n",
    "    # construct pairs of team numbers (w/o thrown team)\n",
    "    pairs = [(teams_left[i][0], teams_left[i+1][0]) for i in range(0, len(teams_left)-1, 2)] \n",
    "    return pairs\n",
    "    \n",
    "    \n",
    "def even_matching(teams):\n",
    "    # construct pairs of sibling teams - it is the most balanced matching\"\n",
    "    pairs = [(teams[i][0], teams[i+1][0]) for i in range(0, len(teams)-1, 2)] \n",
    "    return pairs\n",
    "\n",
    "\n",
    "def matching(teams_ratings):\n",
    "    sorted_teams = sorted(enumerate(teams_ratings), key=(lambda team: team[1]))\n",
    "    if len(teams_ratings) % 2 == 0:\n",
    "        return even_matching(sorted_teams)\n",
    "    else:\n",
    "        return odd_matching(sorted_teams)"
   ]
  },
  {
   "cell_type": "code",
   "execution_count": 5,
   "metadata": {},
   "outputs": [
    {
     "name": "stdout",
     "output_type": "stream",
     "text": [
      "[(3, 4), (8, 1), (2, 0), (5, 7), (9, 6)]\n",
      "[(3, 4), (8, 1), (0, 5), (7, 9), (10, 6)]\n"
     ]
    }
   ],
   "source": [
    "print(matching(teams_ratings[:10]))\n",
    "print(matching(teams_ratings[:11]))"
   ]
  },
  {
   "cell_type": "markdown",
   "metadata": {},
   "source": [
    "## Branch and bound solution\n",
    "It's one of the cases where branch and bound algorithm is harder to implement than something really fast. Besides that it's hard to implement, it is really slow. I would not recommend you to use it on more than 12 teams. Recusion is not a good idea if you use Python. But bruteforce implementation would be even slower ($O(N!)$)"
   ]
  },
  {
   "cell_type": "code",
   "execution_count": 6,
   "metadata": {
    "collapsed": true
   },
   "outputs": [],
   "source": [
    "def branch_n_bound(teams):\n",
    "    mapping = np.zeros((len(teams), len(teams)), dtype='int8') # matrix of matches\n",
    "    # -1 - mark for skipping a match\n",
    "    # 1 - matched\n",
    "    # 0 - not checked yed\n",
    "    for i in range(len(teams)):\n",
    "        mapping[i][i] = -1 # can't match itself\n",
    "        \n",
    "    used = np.zeros((len(teams),)) # used teams (already marked to match some other team)\n",
    "    cost = 0 # cost of tournament imbalance\n",
    "    \n",
    "    def min_cost(results):\n",
    "        \"\"\" find a mapping with the minimal cost\"\"\"\n",
    "        min_idx = 0 if results[0][1] < results[1][1] and results[0][1] >= 0 else 1\n",
    "        return results[min_idx]\n",
    "\n",
    "    def branch_n_bound_impl(teams, used, mapping, cost, min_total_cost):\n",
    "        \"\"\" recursive implementation \"\"\"\n",
    "        \n",
    "        #if recursion path is not optimal -> break\n",
    "        if min_total_cost >= 0 and min_total_cost < cost:\n",
    "            return mapping, -1\n",
    "        \n",
    "        #if all teams (except one maybe) are used -> return result\n",
    "        if len(teams) <= np.sum(used) + 1 and cost >= 0:\n",
    "            if min_total_cost > cost:\n",
    "                min_total_cost = cost\n",
    "            return mapping, cost\n",
    "        \n",
    "        # if there is no place in mapping for not used teams -> break\n",
    "        if 2*(len(teams) - np.sum(used) - 1) > np.sum(mapping >= 0):\n",
    "            return mapping, -1\n",
    "        \n",
    "        # find appropriate pair of teams (not used, not marked -1)\n",
    "        for i, team1 in enumerate(teams):\n",
    "            if used[i]:\n",
    "                continue\n",
    "            for j, team2 in enumerate(teams):\n",
    "                if used[j]:\n",
    "                    continue\n",
    "                if mapping[i, j] != 0:\n",
    "                    continue\n",
    "                    \n",
    "                # we found unmatched unused pair\n",
    "                _mapping1 = copy.deepcopy(mapping) # mapping for case when team_i doesn't match team_j\n",
    "                _mapping1[i, j] = _mapping1[j, i] = -1\n",
    "                _mapping2 = copy.deepcopy(mapping) # mapping for case when team_i match team_j\n",
    "                _mapping2[i, j] = _mapping2[j, i] = 1\n",
    "                _used = copy.deepcopy(used)\n",
    "                _used[i] = _used[j] = 1\n",
    "                # first: prohibit pair(team1, team2) to match and mark this match in mapping as -1\n",
    "                # second: team1 and team2 matched, mark them as used and matched (1 in mapping)\n",
    "                return min_cost([\n",
    "                    branch_n_bound_impl(teams, used, _mapping1, cost, min_total_cost), # prohibit team1 vs team2\n",
    "                    branch_n_bound_impl(teams, _used, _mapping2, cost+abs(team1 - team2), min_total_cost) # t1 and t2 match\n",
    "                ])\n",
    "        return mapping, -1\n",
    "    \n",
    "    matches, cost = branch_n_bound_impl(teams, used, mapping, cost, -1.0)\n",
    "    pairs = [(i, np.argwhere(matches[i, :] == 1)[0,0]) for i in range(len(teams)) if i <  np.argwhere(matches[i, :] == 1)]\n",
    "    return pairs"
   ]
  },
  {
   "cell_type": "code",
   "execution_count": 7,
   "metadata": {
    "scrolled": false
   },
   "outputs": [
    {
     "data": {
      "text/plain": [
       "[(0, 2), (1, 8), (3, 4), (5, 7), (6, 9)]"
      ]
     },
     "execution_count": 7,
     "metadata": {},
     "output_type": "execute_result"
    }
   ],
   "source": [
    "branch_n_bound(teams_ratings[:10])"
   ]
  },
  {
   "cell_type": "markdown",
   "metadata": {},
   "source": [
    "Let's compute branch_n_bound time complexity by imitation:\n",
    "* cu (check used) ~= number of operations to check if all teams are used ($N$)\n",
    "* cm (check mapping) ~= number of operations to check if there's not enough place left in mapping ($2N$)\n",
    "* fnd (find pair) ~= number of ops. to find an appropriate pair of teams ($N + 2N^2$)\n",
    "* cd (change data) ~= copying and changing *mapping* and *used* for further recursion steps ($2N^2 + 4N$)\n",
    "\n",
    "```\n",
    "f(used, map) = cu + cm + fnd + cd + f(used-2, map-2) + f(used, map-2)\n",
    "f(0, map) = cu\n",
    "f(used, used-2) = cu + cm\n",
    "```"
   ]
  },
  {
   "cell_type": "code",
   "execution_count": 8,
   "metadata": {
    "collapsed": true
   },
   "outputs": [],
   "source": [
    "import sys\n",
    "sys.setrecursionlimit(int(1e5))\n",
    "\n",
    "x = []\n",
    "y = []\n",
    "\n",
    "# collecting N's and operations_count(N)\n",
    "for power in np.arange(0, 4, 0.005):\n",
    "    n = int(10**power)\n",
    "    cu = n\n",
    "    cm = 2*n\n",
    "    fnd = n + 2*n*n\n",
    "    cd = 2*n*n + 4*n\n",
    "\n",
    "    def f(used, map_size):\n",
    "        if used <= 0:\n",
    "            return cu\n",
    "        if map_size <= 0:\n",
    "            return cu + cm\n",
    "        if map_size < used:\n",
    "            return cu + cm\n",
    "        return cu + cm + fnd + cd + f(used-2, map_size-2) + f(used, map_size-2)\n",
    "\n",
    "    x.append(n)\n",
    "    y.append(f(n, n)) \n",
    "    \n",
    "x = np.array(x).reshape((-1, 1))\n",
    "y = np.array(y)"
   ]
  },
  {
   "cell_type": "markdown",
   "metadata": {},
   "source": [
    "Now we can use calculated data and try to find analytic formula using linear regression"
   ]
  },
  {
   "cell_type": "code",
   "execution_count": 9,
   "metadata": {
    "collapsed": true
   },
   "outputs": [],
   "source": [
    "from sklearn.preprocessing import PolynomialFeatures\n",
    "\n",
    "pf = PolynomialFeatures(6) # get first 6 powers of N to use in regression\n",
    "X = pf.fit_transform(x)"
   ]
  },
  {
   "cell_type": "code",
   "execution_count": 10,
   "metadata": {},
   "outputs": [
    {
     "data": {
      "text/plain": [
       "LinearRegression(copy_X=True, fit_intercept=True, n_jobs=4, normalize=False)"
      ]
     },
     "execution_count": 10,
     "metadata": {},
     "output_type": "execute_result"
    }
   ],
   "source": [
    "from sklearn.linear_model import LinearRegression\n",
    "\n",
    "lr = LinearRegression(n_jobs=4)\n",
    "lr.fit(X, y)"
   ]
  },
  {
   "cell_type": "code",
   "execution_count": 11,
   "metadata": {},
   "outputs": [
    {
     "name": "stdout",
     "output_type": "stream",
     "text": [
      "   1: 0.00000\n",
      "   n: 0.00352\n",
      " n^2: 0.00142\n",
      " n^3: 2.00485\n",
      " n^4: -0.00000\n",
      " n^5: 0.00000\n",
      " n^6: -0.00000\n"
     ]
    }
   ],
   "source": [
    "names = pf.get_feature_names(['n'])\n",
    "for name, coef in zip(names, lr.coef_):\n",
    "    print(\"%4s: %.5f\" % (name, coef))"
   ]
  },
  {
   "cell_type": "markdown",
   "metadata": {},
   "source": [
    "Linear regression says that algorithm complexity is $O(N^3)$\n",
    "\n",
    "Now we plot $n^3 (x^3)$ agains out operations count ($y^3$)"
   ]
  },
  {
   "cell_type": "code",
   "execution_count": 12,
   "metadata": {},
   "outputs": [
    {
     "data": {
      "text/plain": [
       "<matplotlib.collections.PathCollection at 0x7ffb140342b0>"
      ]
     },
     "execution_count": 12,
     "metadata": {},
     "output_type": "execute_result"
    },
    {
     "data": {
      "image/png": "[encoded data removed]",
      "text/plain": [
       "<matplotlib.figure.Figure at 0x7ffb177cd630>"
      ]
     },
     "metadata": {},
     "output_type": "display_data"
    }
   ],
   "source": [
    "fig, ax = plt.subplots(1, 1, figsize=(16, 10))\n",
    "ax.scatter(x**3, y)"
   ]
  },
  {
   "cell_type": "markdown",
   "metadata": {},
   "source": [
    "We see that relationship is strictly linear "
   ]
  },
  {
   "cell_type": "markdown",
   "metadata": {},
   "source": [
    "Let's check branch_n_bound vs our algorithm on random samples of teams in order to compare results (and be sure that our smart matching works fine)"
   ]
  },
  {
   "cell_type": "code",
   "execution_count": 13,
   "metadata": {},
   "outputs": [
    {
     "name": "stderr",
     "output_type": "stream",
     "text": [
      "100%|██████████| 500/500 [00:03<00:00, 147.12it/s]\n",
      "100%|██████████| 500/500 [00:11<00:00, 43.55it/s]\n"
     ]
    }
   ],
   "source": [
    "import tqdm\n",
    "\n",
    "def check_smart_algorithm(times, data_size):\n",
    "    for i in tqdm.tqdm(range(times)):\n",
    "        ratings = np.random.choice(teams_ratings, (data_size))\n",
    "        # sort pairs in result to get the same order as in branch_n_bound\n",
    "        sm = sorted(\n",
    "            list(map(\n",
    "                lambda args: (min(args), max(args)),\n",
    "                matching(ratings)\n",
    "            )),\n",
    "            key=lambda x: x[0]\n",
    "        )\n",
    "        bf = branch_n_bound(ratings)\n",
    "        if sm != bf:\n",
    "            print(\"failed, bf:\", bf, \" sm:\", sm)\n",
    "            \n",
    "check_smart_algorithm(500, 6)\n",
    "check_smart_algorithm(500, 7)"
   ]
  },
  {
   "cell_type": "markdown",
   "metadata": {},
   "source": [
    "We see that two algorithms give the same results on small random datasets  "
   ]
  }
 ],
 "metadata": {
  "kernelspec": {
   "display_name": "Python 3",
   "language": "python",
   "name": "python3"
  },
  "language_info": {
   "codemirror_mode": {
    "name": "ipython",
    "version": 3
   },
   "file_extension": ".py",
   "mimetype": "text/x-python",
   "name": "python",
   "nbconvert_exporter": "python",
   "pygments_lexer": "ipython3",
   "version": "3.6.2"
  }
 },
 "nbformat": 4,
 "nbformat_minor": 2
}

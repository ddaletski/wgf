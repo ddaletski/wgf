{
 "cells": [
  {
   "cell_type": "code",
   "execution_count": 92,
   "metadata": {},
   "outputs": [
    {
     "name": "stdout",
     "output_type": "stream",
     "text": [
      "Populating the interactive namespace from numpy and matplotlib\n"
     ]
    }
   ],
   "source": [
    "%pylab inline --no-import-all\n",
    "import copy"
   ]
  },
  {
   "cell_type": "code",
   "execution_count": 93,
   "metadata": {
    "collapsed": true
   },
   "outputs": [],
   "source": [
    "players_filename = \"task_1_data/test_A/players.txt\"\n",
    "teams_filename = \"task_1_data/test_A/teams.txt\""
   ]
  },
  {
   "cell_type": "markdown",
   "metadata": {},
   "source": [
    "Reading data from file. I intendedly calculate records count first in order not to read all the data in memory. Then players records are stored in an array of 2-byte integers. After that teams ratings are calculated one by one and storded in an array"
   ]
  },
  {
   "cell_type": "code",
   "execution_count": 94,
   "metadata": {
    "collapsed": true
   },
   "outputs": [],
   "source": [
    "players_count = sum(1 for line in open(players_filename))\n",
    "\n",
    "with open(players_filename) as f:\n",
    "    players_ratings = np.zeros((players_count,), dtype='uint16')\n",
    "    for i in range(players_count):\n",
    "        rating = f.readline().split(\" \")[1]\n",
    "        players_ratings[i] = rating\n",
    "\n",
    "        \n",
    "teams_count = sum(1 for line in open(teams_filename))\n",
    "\n",
    "with open(teams_filename) as f:\n",
    "    teams_ratings = np.zeros((teams_count,), dtype='int32')\n",
    "    for i in range(teams_count):\n",
    "        team_players_ratings = map(lambda idx: players_ratings[int(idx)], f.readline().split(\" \")[1:])\n",
    "        teams_ratings[i] = np.sum(list(team_players_ratings))"
   ]
  },
  {
   "cell_type": "markdown",
   "metadata": {},
   "source": [
    "Branch and bound solution. It's one of the cases where bruteforce algorithm is harder to implement than something really fast. Besides that this bruteforce is hard to implement, it is really slow. I would not recommend you to use it on more than 12 teams"
   ]
  },
  {
   "cell_type": "code",
   "execution_count": 147,
   "metadata": {},
   "outputs": [],
   "source": [
    "def bruteforce(teams):\n",
    "    mapping = np.zeros((len(teams), len(teams)), dtype='int8') # matrix of matches\n",
    "    # -1 - mark for skipping a match\n",
    "    # 1 - matched\n",
    "    # 0 - not checked yed\n",
    "    for i in range(len(teams)):\n",
    "        mapping[i][i] = -1 # can't match itself\n",
    "        \n",
    "    used = np.zeros((len(teams),)) # used teams (already marked to match some other team)\n",
    "    cost = 0 # cost of tournament imbalance\n",
    "    \n",
    "    def min_cost(results):\n",
    "        \"\"\" find a mapping with the minimal cost\"\"\"\n",
    "        min_idx = 0 if results[0][1] < results[1][1] and results[0][1] >= 0 else 1\n",
    "        return results[min_idx]\n",
    "\n",
    "    def bruteforce_impl(teams, used, mapping, cost, min_total_cost):\n",
    "        \"\"\" recursive implementation \"\"\"\n",
    "        \n",
    "        #if recursion path is not optimal -> break\n",
    "        if min_total_cost >= 0 and min_total_cost < cost:\n",
    "            return mapping, -1\n",
    "        \n",
    "        #if all teams are used -> return result\n",
    "        if len(teams) == np.sum(used) and cost >= 0:\n",
    "            if min_total_cost > cost:\n",
    "                min_total_cost = cost\n",
    "            return mapping, cost\n",
    "        \n",
    "        # if there is no place in mapping for not used teams -> break\n",
    "        if 2*(len(teams) - np.sum(used)) > np.sum(mapping >= 0):\n",
    "            return mapping, -1\n",
    "        \n",
    "        # find appropriate pair of teams (not used, not marked -1)\n",
    "        for i, team1 in enumerate(teams):\n",
    "            if used[i]:\n",
    "                continue\n",
    "            for j, team2 in enumerate(teams):\n",
    "                if used[j]:\n",
    "                    continue\n",
    "                if mapping[i, j] != 0:\n",
    "                    continue\n",
    "                    \n",
    "                # we found unmatched unused pair\n",
    "                _mapping1 = copy.deepcopy(mapping) # mapping for case when team_i doesn't match team_j\n",
    "                _mapping1[i, j] = _mapping1[j, i] = -1\n",
    "                _mapping2 = copy.deepcopy(mapping) # mapping for case when team_i match team_j\n",
    "                _mapping2[i, j] = _mapping2[j, i] = 1\n",
    "                _used = copy.deepcopy(used)\n",
    "                _used[i] = _used[j] = 1\n",
    "                # first: prohibit pair(team1, team2) to match and mark this match in mapping as -1\n",
    "                # second: team1 and team2 matched, mark them as used and matched (1 in mapping)\n",
    "                return min_cost([\n",
    "                    bruteforce_impl(teams, used, _mapping1, cost, min_total_cost), # prohibit team1 vs team2\n",
    "                    bruteforce_impl(teams, _used, _mapping2, cost+abs(team1 - team2), min_total_cost) # t1 and t2 match\n",
    "                ])\n",
    "        return mapping, -1\n",
    "    \n",
    "    matches, cost = bruteforce_impl(teams, used, mapping, cost, -1.0)\n",
    "    pairs = [(i, np.argwhere(matches[i, :] == 1)[0,0]) for i in range(len(teams)) if i <  np.argwhere(matches[i, :] == 1)]\n",
    "    return pairs"
   ]
  },
  {
   "cell_type": "code",
   "execution_count": 148,
   "metadata": {
    "scrolled": false
   },
   "outputs": [
    {
     "data": {
      "text/plain": [
       "[(0, 2), (1, 8), (3, 4), (5, 7), (6, 9)]"
      ]
     },
     "execution_count": 148,
     "metadata": {},
     "output_type": "execute_result"
    }
   ],
   "source": [
    "bruteforce(teams_ratings[:10])"
   ]
  },
  {
   "cell_type": "code",
   "execution_count": 158,
   "metadata": {},
   "outputs": [
    {
     "name": "stdout",
     "output_type": "stream",
     "text": [
      "[(4, 3), (1, 8), (0, 2), (7, 5), (6, 9)]\n"
     ]
    }
   ],
   "source": [
    "def smart_matching(teams_ratings):\n",
    "    teams = sorted(enumerate(teams_ratings), key=(lambda team: team[1]))\n",
    "    pairs = [(team, teams[2*i][0]) for i, (team, rating) in enumerate(teams[1::2])]\n",
    "    return pairs\n",
    "\n",
    "print(smart_matching(teams_ratings[:10]))"
   ]
  },
  {
   "cell_type": "markdown",
   "metadata": {},
   "source": [
    "Smart matching time complexity is $O(N\\log{N})$:\n",
    "* $O(N\\log{N})$ for sorting (i suppose python uses quicksort under the hood)\n",
    "* $O(N)$ to compose pairs"
   ]
  },
  {
   "cell_type": "markdown",
   "metadata": {},
   "source": [
    "Let's compare bruteforce vs our algorithm on random samples of 10 teams"
   ]
  },
  {
   "cell_type": "code",
   "execution_count": 154,
   "metadata": {},
   "outputs": [
    {
     "name": "stdout",
     "output_type": "stream",
     "text": [
      "VVVVVVVVVVVVVVVVVVVVVVVVVVVVVVVVVVVVVVVVVVVVVVVVVVVVVVVVVVVVVVVVVVVVVVVVVVVVVVVVVVVVVVVVVVVVVVVVVVVVVVVVVVVVVVVVVVVVVVVVVVVVVVVVVVVVVVVVVVVVVVVVVVVVVVVVVVVVVVVVVVVVVVVVVVVVVVVVVVVVVVVVVVVVVVVVVVVVVVVVVVVVVVVVVVVVVVVVVVVVVVVVVVVVVVVVVVVVVVVVVVVVVVVVVVVVVVVVVVVVVVVVVVVVVVVVVVVVVVVVVVVVVVVVVVVVVVVVVVVVVVVVVVVVVVVVVVVVVVVVVVVVVVVVVVVVVVVVVVVVVVVVVVVVVVVVVVVVVVVVVVVVVVVVVVVVVVVVVVVVVVVVVVVVVVVVVVVVVVVVVVVVVVVVVVVVVVVVVVVVVVVVVVVVVVVVVVVVVVVVVVVVVVVVVVVVVVVVVVVVVVVVVVVVVVVVVVVVVVVVVVVVVVVVVVVVVVVVVVVVVVVVVVVVVVVVVVVVVVVVVVVVVVVVVVVVVVVVVVVVVVVVVVVVVVVVVVVVVVVVVVVVVVVVVVVVVVVVVVVVVVVVVVVVVVVVVVVVVVVVVVVVVVVVVVVVVVVVVVVVVVVVVVVVVVVVVVVVVVVVVVVVVVVVVVVVVVVVVVVVVVVVVVVVVVVVVVVVVVVVVVVVVVVVVVVVVVVVVVVVVVVVVVVVVVVVVVVVVVVVVVVVVVVVVVVVVVVVVVVVVVVVVVVVVVVVVVVVVVVVVVVVVVVVVVVVVVVVVVVVVVVVVVVVVVVVVVVVVVVVVVVVVVVVVVVVVVVVVVVVVVVVVVVVVVVVVVVVVVVVVVVVVVVVVVVVVVVVVVVVVVVVVVVVVVVVVVVVVVVVVVVVVVVVVVVVVVVVVVVVVVVVVVVVVVVVVVVVVVVVVVVVVVVVVVVVVVVVVVVVVVVVVVVVVVVVVVVVVVVVVVVVVVVVVVVVVVVVVVVVVVVVVVVVVVVVVVVVVVVV"
     ]
    }
   ],
   "source": [
    "for i in range(1000):\n",
    "    ratings = np.random.choice(teams_ratings, (6))\n",
    "    sm = sorted(\n",
    "        list(map(\n",
    "            lambda args: (min(args), max(args)),\n",
    "            smart_matching(ratings)\n",
    "        )),\n",
    "        key=lambda x: x[0]\n",
    "    )\n",
    "    bf = bruteforce(ratings)\n",
    "    if sm != bf:\n",
    "        print(\"failed, bf:\", bf, \" sm:\", sm)\n",
    "    else:\n",
    "        print(\"V\", end='')"
   ]
  },
  {
   "cell_type": "markdown",
   "metadata": {},
   "source": [
    "Let's compute bruteforce time complexity:\n",
    "* cu (check used) ~= number of operations to check if all teams are used ($N$)\n",
    "* cm (check mapping) ~= number of operations to check if there's not enough place left in mapping ($2N$)\n",
    "* fnd (find pair) ~= number of ops. to find an appropriate pair of teams ($N + 2N^2$)\n",
    "* cd (change data) ~= copying and changing *mapping* and *used* for further recursion steps ($2N^2 + 4N$)\n",
    "\n",
    "```\n",
    "f(used, map) = cu + cm + fnd + cd + f(used-2, map-2) + f(used, map-2)\n",
    "f(0, map) = cu\n",
    "f(used, used-2) = cu + cm\n",
    "```"
   ]
  },
  {
   "cell_type": "code",
   "execution_count": null,
   "metadata": {},
   "outputs": [],
   "source": [
    "import sys\n",
    "sys.setrecursionlimit(int(1e6))\n",
    "\n",
    "x = []\n",
    "y = []\n",
    "\n",
    "# collecting N's and operations_count(N)\n",
    "for power in np.arange(0, 4, 0.001):\n",
    "    n = int(10**power)\n",
    "    cu = n\n",
    "    cm = 2*n\n",
    "    fnd = n + 2*n*n\n",
    "    cd = 2*n*n + 4*n\n",
    "\n",
    "    def f(used, map_size):\n",
    "        if used <= 0:\n",
    "            return cu\n",
    "        if map_size <= 0:\n",
    "            return cu + cm\n",
    "        if False: #map_size < used:\n",
    "            return cu + cm\n",
    "        return cu + cm + fnd + cd + f(used-2, map_size-2) + f(used, map_size-2)\n",
    "\n",
    "    x.append(n)\n",
    "    y.append(f(n, n)) \n",
    "    \n",
    "x = np.array(x).reshape((-1, 1))\n",
    "y = np.array(y)"
   ]
  },
  {
   "cell_type": "code",
   "execution_count": null,
   "metadata": {},
   "outputs": [],
   "source": [
    "from sklearn.preprocessing import PolynomialFeatures\n",
    "\n",
    "pf = PolynomialFeatures(6)\n",
    "X = pf.fit_transform(x)"
   ]
  },
  {
   "cell_type": "code",
   "execution_count": null,
   "metadata": {},
   "outputs": [],
   "source": [
    "from sklearn.linear_model import LinearRegression\n",
    "\n",
    "lr = LinearRegression(n_jobs=2)\n",
    "lr.fit(X, y)"
   ]
  },
  {
   "cell_type": "code",
   "execution_count": null,
   "metadata": {},
   "outputs": [],
   "source": [
    "names = pf.get_feature_names(['n'])\n",
    "for name, coef in zip(names, lr.coef_):\n",
    "    print(\"%4s: %.5f\" % (name, coef))"
   ]
  },
  {
   "cell_type": "markdown",
   "metadata": {},
   "source": [
    "Linear regression says that algorithm complexity is $O(N^3)$\n",
    "\n",
    "Now we plot $n^3 (x^3)$ agains out operations count ($y^3$)"
   ]
  },
  {
   "cell_type": "code",
   "execution_count": 168,
   "metadata": {},
   "outputs": [
    {
     "data": {
      "text/plain": [
       "<matplotlib.collections.PathCollection at 0x7fd60900e2b0>"
      ]
     },
     "execution_count": 168,
     "metadata": {},
     "output_type": "execute_result"
    },
    {
     "data": {
      "image/png": "[encoded data removed]",
      "text/plain": [
       "<matplotlib.figure.Figure at 0x7fd61fbda7b8>"
      ]
     },
     "metadata": {},
     "output_type": "display_data"
    }
   ],
   "source": [
    "fig, ax = plt.subplots(1, 1, figsize=(16, 10))\n",
    "ax.scatter(x**3, y)"
   ]
  },
  {
   "cell_type": "markdown",
   "metadata": {},
   "source": [
    "We see that relationship is strictly linear "
   ]
  }
 ],
 "metadata": {
  "kernelspec": {
   "display_name": "Python 3",
   "language": "python",
   "name": "python3"
  },
  "language_info": {
   "codemirror_mode": {
    "name": "ipython",
    "version": 3
   },
   "file_extension": ".py",
   "mimetype": "text/x-python",
   "name": "python",
   "nbconvert_exporter": "python",
   "pygments_lexer": "ipython3",
   "version": "3.6.2"
  }
 },
 "nbformat": 4,
 "nbformat_minor": 2
}
